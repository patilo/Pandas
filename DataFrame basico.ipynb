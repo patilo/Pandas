{
 "cells": [
  {
   "cell_type": "code",
   "execution_count": 9,
   "id": "c2d98ec0",
   "metadata": {},
   "outputs": [],
   "source": [
    "import pandas as pd"
   ]
  },
  {
   "cell_type": "markdown",
   "id": "993c626b",
   "metadata": {},
   "source": [
    "importamos nuestra libreria pandas para que podamos\n",
    "ver nuestros dataframes\n",
    "le damos los valores en las columnas y los visualizaremos\n",
    "respecto al orden\n",
    "\n",
    "creamos nuestra lista"
   ]
  },
  {
   "cell_type": "code",
   "execution_count": 4,
   "id": "98fba5cf",
   "metadata": {},
   "outputs": [],
   "source": [
    "fb = ['Facebook', 988833, True]\n",
    "twt = ['Twitter', 857575, False]\n",
    "ig = ['Instagram', 757575, True]\n",
    "wsp = ['Whatsapp', 22828828, True]\n",
    "tel = ['Telegram', 292992, False]\n",
    "lkn = ['Linkdin', 47477277, False]"
   ]
  },
  {
   "cell_type": "code",
   "execution_count": 5,
   "id": "d692b50a",
   "metadata": {},
   "outputs": [],
   "source": [
    "listado_rrss=[fb,twt,ig,wsp,tel,lkn]"
   ]
  },
  {
   "cell_type": "code",
   "execution_count": 6,
   "id": "ffd9537c",
   "metadata": {},
   "outputs": [
    {
     "data": {
      "text/plain": [
       "[['Facebook', 988833, True],\n",
       " ['Twitter', 857575, False],\n",
       " ['Instagram', 757575, True],\n",
       " ['Whatsapp', 22828828, True],\n",
       " ['Telegram', 292992, False],\n",
       " ['Linkdin', 47477277, False]]"
      ]
     },
     "execution_count": 6,
     "metadata": {},
     "output_type": "execute_result"
    }
   ],
   "source": [
    "listado_rrss"
   ]
  },
  {
   "cell_type": "code",
   "execution_count": 11,
   "id": "4f4f3c93",
   "metadata": {},
   "outputs": [
    {
     "data": {
      "text/html": [
       "<div>\n",
       "<style scoped>\n",
       "    .dataframe tbody tr th:only-of-type {\n",
       "        vertical-align: middle;\n",
       "    }\n",
       "\n",
       "    .dataframe tbody tr th {\n",
       "        vertical-align: top;\n",
       "    }\n",
       "\n",
       "    .dataframe thead th {\n",
       "        text-align: right;\n",
       "    }\n",
       "</style>\n",
       "<table border=\"1\" class=\"dataframe\">\n",
       "  <thead>\n",
       "    <tr style=\"text-align: right;\">\n",
       "      <th></th>\n",
       "      <th>aplicacion</th>\n",
       "      <th>cantidad</th>\n",
       "      <th>pertecene a fb</th>\n",
       "    </tr>\n",
       "  </thead>\n",
       "  <tbody>\n",
       "    <tr>\n",
       "      <th>0</th>\n",
       "      <td>Facebook</td>\n",
       "      <td>988833</td>\n",
       "      <td>True</td>\n",
       "    </tr>\n",
       "    <tr>\n",
       "      <th>1</th>\n",
       "      <td>Twitter</td>\n",
       "      <td>857575</td>\n",
       "      <td>False</td>\n",
       "    </tr>\n",
       "    <tr>\n",
       "      <th>2</th>\n",
       "      <td>Instagram</td>\n",
       "      <td>757575</td>\n",
       "      <td>True</td>\n",
       "    </tr>\n",
       "    <tr>\n",
       "      <th>3</th>\n",
       "      <td>Whatsapp</td>\n",
       "      <td>22828828</td>\n",
       "      <td>True</td>\n",
       "    </tr>\n",
       "    <tr>\n",
       "      <th>4</th>\n",
       "      <td>Telegram</td>\n",
       "      <td>292992</td>\n",
       "      <td>False</td>\n",
       "    </tr>\n",
       "    <tr>\n",
       "      <th>5</th>\n",
       "      <td>Linkdin</td>\n",
       "      <td>47477277</td>\n",
       "      <td>False</td>\n",
       "    </tr>\n",
       "  </tbody>\n",
       "</table>\n",
       "</div>"
      ],
      "text/plain": [
       "  aplicacion  cantidad  pertecene a fb\n",
       "0   Facebook    988833            True\n",
       "1    Twitter    857575           False\n",
       "2  Instagram    757575            True\n",
       "3   Whatsapp  22828828            True\n",
       "4   Telegram    292992           False\n",
       "5    Linkdin  47477277           False"
      ]
     },
     "execution_count": 11,
     "metadata": {},
     "output_type": "execute_result"
    }
   ],
   "source": [
    "pd.DataFrame(listado_rrss, columns=['aplicacion', 'cantidad', 'pertecene a fb'])"
   ]
  },
  {
   "cell_type": "code",
   "execution_count": null,
   "id": "1880f505",
   "metadata": {},
   "outputs": [],
   "source": []
  }
 ],
 "metadata": {
  "kernelspec": {
   "display_name": "Python 3 (ipykernel)",
   "language": "python",
   "name": "python3"
  },
  "language_info": {
   "codemirror_mode": {
    "name": "ipython",
    "version": 3
   },
   "file_extension": ".py",
   "mimetype": "text/x-python",
   "name": "python",
   "nbconvert_exporter": "python",
   "pygments_lexer": "ipython3",
   "version": "3.9.7"
  }
 },
 "nbformat": 4,
 "nbformat_minor": 5
}
