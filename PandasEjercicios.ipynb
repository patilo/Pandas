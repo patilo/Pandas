{
 "cells": [
  {
   "cell_type": "markdown",
   "id": "b0c60939",
   "metadata": {},
   "source": [
    "# pandas nos permite ver tablas ordenadas con datos\n",
    "# segun necesitemos, tambien nos permite ordenar\n",
    "# antes de visualizar nuestra tabla, seleccionar columnas\n",
    "# filas o seleccionar datos especificos"
   ]
  },
  {
   "cell_type": "code",
   "execution_count": 5,
   "id": "2fa44eb1",
   "metadata": {},
   "outputs": [],
   "source": [
    "#importamos pandas\n",
    "import pandas as pd"
   ]
  },
  {
   "cell_type": "code",
   "execution_count": 6,
   "id": "4a18b7e4",
   "metadata": {},
   "outputs": [],
   "source": [
    "#crearemos nuestra tabla y la guardaremos con pandas\n",
    "fb = ['Facebook', 988833, True, 2006]\n",
    "twt = ['Twitter', 857575, False, 2008]\n",
    "ig = ['Instagram', 757575, True, 2010]\n",
    "wsp = ['Whatsapp', 22828828, True, 2009]\n",
    "tel = ['Telegram', 292992, False, 2010]\n",
    "lkn = ['Linkdin', 47477277, False, 2012]\n",
    "\n",
    "lista_rrss=[fb,twt,ig,wsp,tel,lkn]"
   ]
  },
  {
   "cell_type": "code",
   "execution_count": 11,
   "id": "c8b9869f",
   "metadata": {},
   "outputs": [
    {
     "data": {
      "text/html": [
       "<div>\n",
       "<style scoped>\n",
       "    .dataframe tbody tr th:only-of-type {\n",
       "        vertical-align: middle;\n",
       "    }\n",
       "\n",
       "    .dataframe tbody tr th {\n",
       "        vertical-align: top;\n",
       "    }\n",
       "\n",
       "    .dataframe thead th {\n",
       "        text-align: right;\n",
       "    }\n",
       "</style>\n",
       "<table border=\"1\" class=\"dataframe\">\n",
       "  <thead>\n",
       "    <tr style=\"text-align: right;\">\n",
       "      <th></th>\n",
       "      <th>Nombre</th>\n",
       "      <th>Cantidad</th>\n",
       "      <th>Pertecene_a_FB</th>\n",
       "      <th>Año</th>\n",
       "    </tr>\n",
       "  </thead>\n",
       "  <tbody>\n",
       "    <tr>\n",
       "      <th>0</th>\n",
       "      <td>Facebook</td>\n",
       "      <td>988833</td>\n",
       "      <td>True</td>\n",
       "      <td>2006</td>\n",
       "    </tr>\n",
       "    <tr>\n",
       "      <th>1</th>\n",
       "      <td>Twitter</td>\n",
       "      <td>857575</td>\n",
       "      <td>False</td>\n",
       "      <td>2008</td>\n",
       "    </tr>\n",
       "    <tr>\n",
       "      <th>2</th>\n",
       "      <td>Instagram</td>\n",
       "      <td>757575</td>\n",
       "      <td>True</td>\n",
       "      <td>2010</td>\n",
       "    </tr>\n",
       "    <tr>\n",
       "      <th>3</th>\n",
       "      <td>Whatsapp</td>\n",
       "      <td>22828828</td>\n",
       "      <td>True</td>\n",
       "      <td>2009</td>\n",
       "    </tr>\n",
       "    <tr>\n",
       "      <th>4</th>\n",
       "      <td>Telegram</td>\n",
       "      <td>292992</td>\n",
       "      <td>False</td>\n",
       "      <td>2010</td>\n",
       "    </tr>\n",
       "    <tr>\n",
       "      <th>5</th>\n",
       "      <td>Linkdin</td>\n",
       "      <td>47477277</td>\n",
       "      <td>False</td>\n",
       "      <td>2012</td>\n",
       "    </tr>\n",
       "  </tbody>\n",
       "</table>\n",
       "</div>"
      ],
      "text/plain": [
       "      Nombre  Cantidad  Pertecene_a_FB   Año\n",
       "0   Facebook    988833            True  2006\n",
       "1    Twitter    857575           False  2008\n",
       "2  Instagram    757575            True  2010\n",
       "3   Whatsapp  22828828            True  2009\n",
       "4   Telegram    292992           False  2010\n",
       "5    Linkdin  47477277           False  2012"
      ]
     },
     "execution_count": 11,
     "metadata": {},
     "output_type": "execute_result"
    }
   ],
   "source": [
    "#creamos nuestro dataframe con la tabla y los datos\n",
    "#lo guardamos dentro de df_rrss, llamamos al paquete pd.DataFrame para guardar\n",
    "#nuestro argumento() sera la lista y le asignamos las cabeceras de las columnas\n",
    "df_rrss=pd.DataFrame(lista_rrss,\n",
    "            columns = ['Nombre', 'Cantidad', 'Pertecene_a_FB', 'Año'])\n",
    "df_rrss"
   ]
  },
  {
   "cell_type": "code",
   "execution_count": 12,
   "id": "76a87284",
   "metadata": {},
   "outputs": [
    {
     "data": {
      "text/html": [
       "<div>\n",
       "<style scoped>\n",
       "    .dataframe tbody tr th:only-of-type {\n",
       "        vertical-align: middle;\n",
       "    }\n",
       "\n",
       "    .dataframe tbody tr th {\n",
       "        vertical-align: top;\n",
       "    }\n",
       "\n",
       "    .dataframe thead th {\n",
       "        text-align: right;\n",
       "    }\n",
       "</style>\n",
       "<table border=\"1\" class=\"dataframe\">\n",
       "  <thead>\n",
       "    <tr style=\"text-align: right;\">\n",
       "      <th></th>\n",
       "      <th>nombre</th>\n",
       "      <th>apellido</th>\n",
       "      <th>edad</th>\n",
       "    </tr>\n",
       "  </thead>\n",
       "  <tbody>\n",
       "  </tbody>\n",
       "</table>\n",
       "</div>"
      ],
      "text/plain": [
       "Empty DataFrame\n",
       "Columns: [nombre, apellido, edad]\n",
       "Index: []"
      ]
     },
     "execution_count": 12,
     "metadata": {},
     "output_type": "execute_result"
    }
   ],
   "source": [
    "#crearemos tambien un dataframe vacio y le asiganamos columnas\n",
    "df_vacio=pd.DataFrame(columns = ['nombre', 'apellido', 'edad'])\n",
    "df_vacio"
   ]
  },
  {
   "cell_type": "code",
   "execution_count": 15,
   "id": "a520ca03",
   "metadata": {},
   "outputs": [
    {
     "data": {
      "text/html": [
       "<div>\n",
       "<style scoped>\n",
       "    .dataframe tbody tr th:only-of-type {\n",
       "        vertical-align: middle;\n",
       "    }\n",
       "\n",
       "    .dataframe tbody tr th {\n",
       "        vertical-align: top;\n",
       "    }\n",
       "\n",
       "    .dataframe thead th {\n",
       "        text-align: right;\n",
       "    }\n",
       "</style>\n",
       "<table border=\"1\" class=\"dataframe\">\n",
       "  <thead>\n",
       "    <tr style=\"text-align: right;\">\n",
       "      <th></th>\n",
       "      <th>nombre</th>\n",
       "      <th>apellido</th>\n",
       "      <th>edad</th>\n",
       "    </tr>\n",
       "  </thead>\n",
       "  <tbody>\n",
       "    <tr>\n",
       "      <th>0</th>\n",
       "      <td>Alonso</td>\n",
       "      <td>Carrasco</td>\n",
       "      <td>7</td>\n",
       "    </tr>\n",
       "  </tbody>\n",
       "</table>\n",
       "</div>"
      ],
      "text/plain": [
       "   nombre  apellido edad\n",
       "0  Alonso  Carrasco    7"
      ]
     },
     "execution_count": 15,
     "metadata": {},
     "output_type": "execute_result"
    }
   ],
   "source": [
    "#ahora llenaremos esa tabla con datos\n",
    "df_vacio=df_vacio.append({'nombre':'Alonso',\n",
    "                          'apellido':'Carrasco',\n",
    "                          'edad':7},\n",
    "                         ignore_index=True)\n",
    "df_vacio"
   ]
  },
  {
   "cell_type": "markdown",
   "id": "bd45d32b",
   "metadata": {},
   "source": [
    "**lo normal es exportar archivos en excel para llenar nuestras tablas\n",
    "en conjunto crear los dataframes con ellos**"
   ]
  },
  {
   "cell_type": "markdown",
   "id": "23ea3cec",
   "metadata": {},
   "source": [
    "# AHORA VEREMOS SELECCION POR FILAS Y COLUMNAS"
   ]
  },
  {
   "cell_type": "code",
   "execution_count": 16,
   "id": "c9271f2c",
   "metadata": {},
   "outputs": [
    {
     "data": {
      "text/html": [
       "<div>\n",
       "<style scoped>\n",
       "    .dataframe tbody tr th:only-of-type {\n",
       "        vertical-align: middle;\n",
       "    }\n",
       "\n",
       "    .dataframe tbody tr th {\n",
       "        vertical-align: top;\n",
       "    }\n",
       "\n",
       "    .dataframe thead th {\n",
       "        text-align: right;\n",
       "    }\n",
       "</style>\n",
       "<table border=\"1\" class=\"dataframe\">\n",
       "  <thead>\n",
       "    <tr style=\"text-align: right;\">\n",
       "      <th></th>\n",
       "      <th>Nombre</th>\n",
       "      <th>Cantidad</th>\n",
       "      <th>Pertecene_a_FB</th>\n",
       "      <th>Año</th>\n",
       "    </tr>\n",
       "  </thead>\n",
       "  <tbody>\n",
       "    <tr>\n",
       "      <th>0</th>\n",
       "      <td>Facebook</td>\n",
       "      <td>988833</td>\n",
       "      <td>True</td>\n",
       "      <td>2006</td>\n",
       "    </tr>\n",
       "    <tr>\n",
       "      <th>1</th>\n",
       "      <td>Twitter</td>\n",
       "      <td>857575</td>\n",
       "      <td>False</td>\n",
       "      <td>2008</td>\n",
       "    </tr>\n",
       "    <tr>\n",
       "      <th>2</th>\n",
       "      <td>Instagram</td>\n",
       "      <td>757575</td>\n",
       "      <td>True</td>\n",
       "      <td>2010</td>\n",
       "    </tr>\n",
       "    <tr>\n",
       "      <th>3</th>\n",
       "      <td>Whatsapp</td>\n",
       "      <td>22828828</td>\n",
       "      <td>True</td>\n",
       "      <td>2009</td>\n",
       "    </tr>\n",
       "    <tr>\n",
       "      <th>4</th>\n",
       "      <td>Telegram</td>\n",
       "      <td>292992</td>\n",
       "      <td>False</td>\n",
       "      <td>2010</td>\n",
       "    </tr>\n",
       "    <tr>\n",
       "      <th>5</th>\n",
       "      <td>Linkdin</td>\n",
       "      <td>47477277</td>\n",
       "      <td>False</td>\n",
       "      <td>2012</td>\n",
       "    </tr>\n",
       "  </tbody>\n",
       "</table>\n",
       "</div>"
      ],
      "text/plain": [
       "      Nombre  Cantidad  Pertecene_a_FB   Año\n",
       "0   Facebook    988833            True  2006\n",
       "1    Twitter    857575           False  2008\n",
       "2  Instagram    757575            True  2010\n",
       "3   Whatsapp  22828828            True  2009\n",
       "4   Telegram    292992           False  2010\n",
       "5    Linkdin  47477277           False  2012"
      ]
     },
     "execution_count": 16,
     "metadata": {},
     "output_type": "execute_result"
    }
   ],
   "source": [
    "df_rrss"
   ]
  },
  {
   "cell_type": "code",
   "execution_count": 18,
   "id": "231720d0",
   "metadata": {},
   "outputs": [
    {
     "data": {
      "text/plain": [
       "'Twitter'"
      ]
     },
     "execution_count": 18,
     "metadata": {},
     "output_type": "execute_result"
    }
   ],
   "source": [
    "#aqui buscamos en la columna nombre y la posicion 1 (locate)\n",
    "df_rrss.loc[1,'Nombre']"
   ]
  },
  {
   "cell_type": "code",
   "execution_count": 19,
   "id": "5ba4cbc9",
   "metadata": {},
   "outputs": [
    {
     "data": {
      "text/plain": [
       "'Twitter'"
      ]
     },
     "execution_count": 19,
     "metadata": {},
     "output_type": "execute_result"
    }
   ],
   "source": [
    "#aqui buscamos en la columna nuevamente y posicion 1, la dif de iloc es q no lleva nombre\n",
    "df_rrss.iloc[1,0]"
   ]
  },
  {
   "cell_type": "code",
   "execution_count": 21,
   "id": "c306e9b5",
   "metadata": {},
   "outputs": [
    {
     "data": {
      "text/plain": [
       "0     Facebook\n",
       "1      Twitter\n",
       "2    Instagram\n",
       "3     Whatsapp\n",
       "4     Telegram\n",
       "5      Linkdin\n",
       "Name: Nombre, dtype: object"
      ]
     },
     "execution_count": 21,
     "metadata": {},
     "output_type": "execute_result"
    }
   ],
   "source": [
    "#obtenemos toda la columna nombre\n",
    "df_rrss['Nombre']"
   ]
  },
  {
   "cell_type": "code",
   "execution_count": 22,
   "id": "5a034c77",
   "metadata": {},
   "outputs": [
    {
     "data": {
      "text/plain": [
       "Nombre            Telegram\n",
       "Cantidad            292992\n",
       "Pertecene_a_FB       False\n",
       "Año                   2010\n",
       "Name: 4, dtype: object"
      ]
     },
     "execution_count": 22,
     "metadata": {},
     "output_type": "execute_result"
    }
   ],
   "source": [
    "#obtenemos una fila con iloc\n",
    "#consultamos la linea 4 con su info\n",
    "df_rrss.iloc[4]"
   ]
  },
  {
   "cell_type": "code",
   "execution_count": 25,
   "id": "e3dca95f",
   "metadata": {},
   "outputs": [
    {
     "data": {
      "text/plain": [
       "0     True\n",
       "1     True\n",
       "2     True\n",
       "3     True\n",
       "4    False\n",
       "5     True\n",
       "Name: Cantidad, dtype: bool"
      ]
     },
     "execution_count": 25,
     "metadata": {},
     "output_type": "execute_result"
    }
   ],
   "source": [
    "#consultamos al boolean\n",
    "#donde deben ser mayor a 300mil\n",
    "df_rrss['Cantidad']>300000"
   ]
  },
  {
   "cell_type": "code",
   "execution_count": 28,
   "id": "b325103d",
   "metadata": {},
   "outputs": [
    {
     "data": {
      "text/html": [
       "<div>\n",
       "<style scoped>\n",
       "    .dataframe tbody tr th:only-of-type {\n",
       "        vertical-align: middle;\n",
       "    }\n",
       "\n",
       "    .dataframe tbody tr th {\n",
       "        vertical-align: top;\n",
       "    }\n",
       "\n",
       "    .dataframe thead th {\n",
       "        text-align: right;\n",
       "    }\n",
       "</style>\n",
       "<table border=\"1\" class=\"dataframe\">\n",
       "  <thead>\n",
       "    <tr style=\"text-align: right;\">\n",
       "      <th></th>\n",
       "      <th>Nombre</th>\n",
       "      <th>Cantidad</th>\n",
       "      <th>Pertecene_a_FB</th>\n",
       "      <th>Año</th>\n",
       "    </tr>\n",
       "  </thead>\n",
       "  <tbody>\n",
       "    <tr>\n",
       "      <th>4</th>\n",
       "      <td>Telegram</td>\n",
       "      <td>292992</td>\n",
       "      <td>False</td>\n",
       "      <td>2010</td>\n",
       "    </tr>\n",
       "  </tbody>\n",
       "</table>\n",
       "</div>"
      ],
      "text/plain": [
       "     Nombre  Cantidad  Pertecene_a_FB   Año\n",
       "4  Telegram    292992           False  2010"
      ]
     },
     "execution_count": 28,
     "metadata": {},
     "output_type": "execute_result"
    }
   ],
   "source": [
    "#ahora consultamos especificamente las rrss q tengan -300mil usuarios\n",
    "df_rrss[df_rrss['Cantidad']<300000]"
   ]
  },
  {
   "cell_type": "markdown",
   "id": "03e25611",
   "metadata": {},
   "source": [
    "# ordenar por columnas de mayor a menor o >.<"
   ]
  },
  {
   "cell_type": "code",
   "execution_count": 30,
   "id": "b91f20e1",
   "metadata": {},
   "outputs": [
    {
     "data": {
      "text/html": [
       "<div>\n",
       "<style scoped>\n",
       "    .dataframe tbody tr th:only-of-type {\n",
       "        vertical-align: middle;\n",
       "    }\n",
       "\n",
       "    .dataframe tbody tr th {\n",
       "        vertical-align: top;\n",
       "    }\n",
       "\n",
       "    .dataframe thead th {\n",
       "        text-align: right;\n",
       "    }\n",
       "</style>\n",
       "<table border=\"1\" class=\"dataframe\">\n",
       "  <thead>\n",
       "    <tr style=\"text-align: right;\">\n",
       "      <th></th>\n",
       "      <th>Nombre</th>\n",
       "      <th>Cantidad</th>\n",
       "      <th>Pertecene_a_FB</th>\n",
       "      <th>Año</th>\n",
       "    </tr>\n",
       "  </thead>\n",
       "  <tbody>\n",
       "    <tr>\n",
       "      <th>0</th>\n",
       "      <td>Facebook</td>\n",
       "      <td>988833</td>\n",
       "      <td>True</td>\n",
       "      <td>2006</td>\n",
       "    </tr>\n",
       "    <tr>\n",
       "      <th>2</th>\n",
       "      <td>Instagram</td>\n",
       "      <td>757575</td>\n",
       "      <td>True</td>\n",
       "      <td>2010</td>\n",
       "    </tr>\n",
       "    <tr>\n",
       "      <th>5</th>\n",
       "      <td>Linkdin</td>\n",
       "      <td>47477277</td>\n",
       "      <td>False</td>\n",
       "      <td>2012</td>\n",
       "    </tr>\n",
       "    <tr>\n",
       "      <th>4</th>\n",
       "      <td>Telegram</td>\n",
       "      <td>292992</td>\n",
       "      <td>False</td>\n",
       "      <td>2010</td>\n",
       "    </tr>\n",
       "    <tr>\n",
       "      <th>1</th>\n",
       "      <td>Twitter</td>\n",
       "      <td>857575</td>\n",
       "      <td>False</td>\n",
       "      <td>2008</td>\n",
       "    </tr>\n",
       "    <tr>\n",
       "      <th>3</th>\n",
       "      <td>Whatsapp</td>\n",
       "      <td>22828828</td>\n",
       "      <td>True</td>\n",
       "      <td>2009</td>\n",
       "    </tr>\n",
       "  </tbody>\n",
       "</table>\n",
       "</div>"
      ],
      "text/plain": [
       "      Nombre  Cantidad  Pertecene_a_FB   Año\n",
       "0   Facebook    988833            True  2006\n",
       "2  Instagram    757575            True  2010\n",
       "5    Linkdin  47477277           False  2012\n",
       "4   Telegram    292992           False  2010\n",
       "1    Twitter    857575           False  2008\n",
       "3   Whatsapp  22828828            True  2009"
      ]
     },
     "execution_count": 30,
     "metadata": {},
     "output_type": "execute_result"
    }
   ],
   "source": [
    "#ordenar de modo ascendente de A-Z los nombres y preguntamos\n",
    "df_rrss.sort_values('Nombre', ascending=True)"
   ]
  },
  {
   "cell_type": "code",
   "execution_count": 33,
   "id": "5384fce8",
   "metadata": {},
   "outputs": [
    {
     "data": {
      "text/html": [
       "<div>\n",
       "<style scoped>\n",
       "    .dataframe tbody tr th:only-of-type {\n",
       "        vertical-align: middle;\n",
       "    }\n",
       "\n",
       "    .dataframe tbody tr th {\n",
       "        vertical-align: top;\n",
       "    }\n",
       "\n",
       "    .dataframe thead th {\n",
       "        text-align: right;\n",
       "    }\n",
       "</style>\n",
       "<table border=\"1\" class=\"dataframe\">\n",
       "  <thead>\n",
       "    <tr style=\"text-align: right;\">\n",
       "      <th></th>\n",
       "      <th>Nombre</th>\n",
       "      <th>Cantidad</th>\n",
       "      <th>Pertecene_a_FB</th>\n",
       "      <th>Año</th>\n",
       "    </tr>\n",
       "  </thead>\n",
       "  <tbody>\n",
       "    <tr>\n",
       "      <th>5</th>\n",
       "      <td>Linkdin</td>\n",
       "      <td>47477277</td>\n",
       "      <td>False</td>\n",
       "      <td>2012</td>\n",
       "    </tr>\n",
       "    <tr>\n",
       "      <th>2</th>\n",
       "      <td>Instagram</td>\n",
       "      <td>757575</td>\n",
       "      <td>True</td>\n",
       "      <td>2010</td>\n",
       "    </tr>\n",
       "    <tr>\n",
       "      <th>4</th>\n",
       "      <td>Telegram</td>\n",
       "      <td>292992</td>\n",
       "      <td>False</td>\n",
       "      <td>2010</td>\n",
       "    </tr>\n",
       "    <tr>\n",
       "      <th>3</th>\n",
       "      <td>Whatsapp</td>\n",
       "      <td>22828828</td>\n",
       "      <td>True</td>\n",
       "      <td>2009</td>\n",
       "    </tr>\n",
       "    <tr>\n",
       "      <th>1</th>\n",
       "      <td>Twitter</td>\n",
       "      <td>857575</td>\n",
       "      <td>False</td>\n",
       "      <td>2008</td>\n",
       "    </tr>\n",
       "    <tr>\n",
       "      <th>0</th>\n",
       "      <td>Facebook</td>\n",
       "      <td>988833</td>\n",
       "      <td>True</td>\n",
       "      <td>2006</td>\n",
       "    </tr>\n",
       "  </tbody>\n",
       "</table>\n",
       "</div>"
      ],
      "text/plain": [
       "      Nombre  Cantidad  Pertecene_a_FB   Año\n",
       "5    Linkdin  47477277           False  2012\n",
       "2  Instagram    757575            True  2010\n",
       "4   Telegram    292992           False  2010\n",
       "3   Whatsapp  22828828            True  2009\n",
       "1    Twitter    857575           False  2008\n",
       "0   Facebook    988833            True  2006"
      ]
     },
     "execution_count": 33,
     "metadata": {},
     "output_type": "execute_result"
    }
   ],
   "source": [
    "#ordenamos de modo descendente de menor a mayor el año\n",
    "#si usamos el true nos ordena al reves\n",
    "df_rrss.sort_values('Año', ascending=False)"
   ]
  },
  {
   "cell_type": "code",
   "execution_count": 39,
   "id": "4721490f",
   "metadata": {},
   "outputs": [
    {
     "data": {
      "text/html": [
       "<div>\n",
       "<style scoped>\n",
       "    .dataframe tbody tr th:only-of-type {\n",
       "        vertical-align: middle;\n",
       "    }\n",
       "\n",
       "    .dataframe tbody tr th {\n",
       "        vertical-align: top;\n",
       "    }\n",
       "\n",
       "    .dataframe thead th {\n",
       "        text-align: right;\n",
       "    }\n",
       "</style>\n",
       "<table border=\"1\" class=\"dataframe\">\n",
       "  <thead>\n",
       "    <tr style=\"text-align: right;\">\n",
       "      <th></th>\n",
       "      <th>Nombre</th>\n",
       "      <th>Cantidad</th>\n",
       "      <th>Pertecene_a_FB</th>\n",
       "      <th>Año</th>\n",
       "    </tr>\n",
       "  </thead>\n",
       "  <tbody>\n",
       "    <tr>\n",
       "      <th>0</th>\n",
       "      <td>Facebook</td>\n",
       "      <td>988833</td>\n",
       "      <td>True</td>\n",
       "      <td>2006</td>\n",
       "    </tr>\n",
       "    <tr>\n",
       "      <th>2</th>\n",
       "      <td>Instagram</td>\n",
       "      <td>757575</td>\n",
       "      <td>True</td>\n",
       "      <td>2010</td>\n",
       "    </tr>\n",
       "    <tr>\n",
       "      <th>5</th>\n",
       "      <td>Linkdin</td>\n",
       "      <td>47477277</td>\n",
       "      <td>False</td>\n",
       "      <td>2012</td>\n",
       "    </tr>\n",
       "    <tr>\n",
       "      <th>4</th>\n",
       "      <td>Telegram</td>\n",
       "      <td>292992</td>\n",
       "      <td>False</td>\n",
       "      <td>2010</td>\n",
       "    </tr>\n",
       "    <tr>\n",
       "      <th>1</th>\n",
       "      <td>Twitter</td>\n",
       "      <td>857575</td>\n",
       "      <td>False</td>\n",
       "      <td>2008</td>\n",
       "    </tr>\n",
       "    <tr>\n",
       "      <th>3</th>\n",
       "      <td>Whatsapp</td>\n",
       "      <td>22828828</td>\n",
       "      <td>True</td>\n",
       "      <td>2009</td>\n",
       "    </tr>\n",
       "  </tbody>\n",
       "</table>\n",
       "</div>"
      ],
      "text/plain": [
       "      Nombre  Cantidad  Pertecene_a_FB   Año\n",
       "0   Facebook    988833            True  2006\n",
       "2  Instagram    757575            True  2010\n",
       "5    Linkdin  47477277           False  2012\n",
       "4   Telegram    292992           False  2010\n",
       "1    Twitter    857575           False  2008\n",
       "3   Whatsapp  22828828            True  2009"
      ]
     },
     "execution_count": 39,
     "metadata": {},
     "output_type": "execute_result"
    }
   ],
   "source": [
    "#ordenar el df x 2 valores ascendente\n",
    "df_rrss.sort_values(['Nombre', 'Año'], ascending=[True, True])"
   ]
  },
  {
   "cell_type": "code",
   "execution_count": 1,
   "id": "01de39e7",
   "metadata": {},
   "outputs": [],
   "source": [
    "#como cargar un documento en excel\n",
    "import pandas as pd\n",
    "\n",
    "df = pd.read_csv('data.csv')\n",
    "\n",
    "print(df.to_string())\n",
    "#cuando usa el .to_string es para mostrar toda la informacion.\n",
    "\n",
    "#cargar jsons\n",
    "import pandas as pd\n",
    "\n",
    "df = pd.read_json('data.json')\n",
    "\n",
    "print(df.to_string()) "
   ]
  },
  {
   "cell_type": "code",
   "execution_count": null,
   "id": "fb053c3f",
   "metadata": {},
   "outputs": [],
   "source": []
  }
 ],
 "metadata": {
  "kernelspec": {
   "display_name": "Python 3 (ipykernel)",
   "language": "python",
   "name": "python3"
  },
  "language_info": {
   "codemirror_mode": {
    "name": "ipython",
    "version": 3
   },
   "file_extension": ".py",
   "mimetype": "text/x-python",
   "name": "python",
   "nbconvert_exporter": "python",
   "pygments_lexer": "ipython3",
   "version": "3.9.12"
  }
 },
 "nbformat": 4,
 "nbformat_minor": 5
}
